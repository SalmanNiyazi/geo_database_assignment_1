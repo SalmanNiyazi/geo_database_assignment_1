{
 "cells": [
  {
   "cell_type": "markdown",
   "metadata": {},
   "source": [
    "Solution for Question 1.2(d)(i)"
   ]
  },
  {
   "cell_type": "code",
   "execution_count": null,
   "metadata": {},
   "outputs": [],
   "source": [
    "import psycopg2\n",
    "\n",
    "connection = psycopg2.connect(\n",
    "    dbname='postgres',\n",
    "    user='postgres',\n",
    "    password='postgres',\n",
    "    host='localhost',\n",
    "    port='5432'\n",
    ")\n",
    "\n",
    "cur = connection.cursor()\n",
    "\n",
    "rectangle_data = [\n",
    "    ((0, 0), (2, 2)),\n",
    "    ((1, 1), (4, 3)),\n",
    "    ((-1, -1),(3,1)),\n",
    "    ((0, 0), (5, 3)),\n",
    "    ((-2, -2), (2, 2))\n",
    "]\n",
    "\n",
    "triangle_data = [\n",
    "    ((0, 0), (3, 0), (0, 4)),\n",
    "    ((1, 1), (5, 1), (3, 5)),\n",
    "    ((-1, -1), (-3, -1), (-2, 2)),\n",
    "    ((0, 0), (1, 1), (2, 0)),\n",
    "    ((-2, -2), (-4, -2), (-3, -4)),\n",
    "]\n",
    "\n",
    "#insert data into rectangle\n",
    "for i, points in enumerate(rectangle_data, start=1):\n",
    "    cur.execute(\"INSERT INTO Rectangle (first_point, second_point) VALUES (%s, %s)\", (points[0], points[1]))\n",
    "    print(\"Inserted rectangle {i}\")\n",
    "\n",
    "\n",
    "for i, points in enumerate(triangle_data, start=1):\n",
    "    cur.execute(\"INSERT INTO Triangle (first_point, second_point, third_point) VALUES (%s, %s, %s)\", (points[0], points[1]))\n",
    "    print(\"Inserted triangle {i}\")\n",
    "\n",
    "\n",
    "connection.commit()\n",
    "\n",
    "cur.close()\n",
    "connection.close()"
   ]
  },
  {
   "cell_type": "markdown",
   "metadata": {},
   "source": [
    "(ii) Query all rectangles. Iterate through the result, and if the current rectangle is a square,\n",
    "print it to the console."
   ]
  },
  {
   "cell_type": "markdown",
   "metadata": {},
   "source": [
    "Solution for 1.2(d)(ii)"
   ]
  },
  {
   "cell_type": "code",
   "execution_count": null,
   "metadata": {},
   "outputs": [],
   "source": [
    "import psycopg2\n",
    "\n",
    "connection = psycopg2.connect(\n",
    "    dbname='postgres',\n",
    "    user='postgres',\n",
    "    password='postgres',\n",
    "    host='localhost',\n",
    "    port='5432'\n",
    ")\n",
    "\n",
    "cur = connection.cursor()\n",
    "\n",
    "cur.execute(\"SELECT id, first_point, second_point FROM Rectangle\")\n",
    "\n",
    "#fetch all rows of rectangles\n",
    "rectangles = cur.fetchall()\n",
    "\n",
    "#Iterate through all the values\n",
    "for rectangle in rectangles:\n",
    "    id, first_point, second_point = rectangle\n",
    "    x1, y1 = first_point\n",
    "    x2, y2 = second_point\n",
    "    width = abs(x2 - x1)\n",
    "    height = abs(y2 - y1)\n",
    "\n",
    "    #check if the rectangle is square\n",
    "    if width == height:\n",
    "        print(\"Rectangle with id {id} is a square\")\n",
    "\n",
    "\n",
    "cur.close()\n",
    "connection.close()"
   ]
  },
  {
   "cell_type": "markdown",
   "metadata": {},
   "source": [
    "(iii) Query all triangles. Iterate through the result, and if the current triangle is right-angled or\n",
    "isosceles, print it to the console."
   ]
  },
  {
   "cell_type": "markdown",
   "metadata": {},
   "source": [
    "Solution for 1.2(d)(iii)\n"
   ]
  },
  {
   "cell_type": "code",
   "execution_count": null,
   "metadata": {},
   "outputs": [],
   "source": [
    "import psycopg2\n",
    "\n",
    "connection = psycopg2.connect(\n",
    "    dbname='postgres',\n",
    "    user='postgres',\n",
    "    password='postgres',\n",
    "    host='localhost',\n",
    "    port='5432'\n",
    ")\n",
    "\n",
    "cur = connection.cursor()\n",
    "\n",
    "cur.execute(\"SELECT id, first_point, second_point, third_point FROM Triangle\")\n",
    "\n",
    "#fetch all rows\n",
    "triangles = cur.fetchall()\n",
    "\n",
    "for triangle in triangles:\n",
    "    id, first_point,second_point,third_point = triangle\n",
    "    x1, y1 = first_point\n",
    "    x2, y2 = second_point\n",
    "    x3, y3 = third_point\n",
    "\n",
    "    side1 = ((x2 - x1) ** 2 + (y2 - y1) ** 2) ** 0.5\n",
    "    side2 = ((x3 - x2) ** 2 + (y3 - y2) ** 2) ** 0.5\n",
    "    side3 = ((x1 - x3) ** 2 + (y1 - y3) ** 2) ** 0.5\n",
    "\n",
    "    #check if the triangle is a right-angled triangle\n",
    "    if (side1 ** 2 == side2 ** 2 + side3 ** 2) or (side2 ** 2 == side1 ** 2 + side3 ** 2) or (side3 ** 2 == side1 ** 2 + side2 ** 2):\n",
    "        print(\"Triangle with id {id} is a right angle triangle\")\n",
    "\n",
    "    #check if the triangle is isosceles\n",
    "    elif side1 == side2 or side1 == side3 or side2 == side3:\n",
    "        print(\"Triangle with id {id} is an isosceles triangle\")\n",
    "\n",
    "cur.close()\n",
    "\n",
    "connection.close()"
   ]
  },
  {
   "cell_type": "markdown",
   "metadata": {},
   "source": [
    "(e) Implement the following topological relationships of two rectangles r1 and r2 in Python:\n",
    "(i) equals(r1, r2): checks whether the rectangle r1 equals the rectangle r2, i.e., it checks\n",
    "if the points in r1 are equal to the ones in r2.\n",
    "(ii) inside(r1, r2): checks if the rectangle r1 is contained in the rectangle r2.\n",
    "(iii) intersects_not_inside(r1, r2): checks if rectangles r1 and r2 intersect. Note that in\n",
    "case a rectangle r1 is contained in another rectangle r2 or vice-versa, then this method\n",
    "returns False.\n",
    "(iv) disjoint(r1,r2): checks whether the two rectangles r1, and r2 are disjoint."
   ]
  },
  {
   "cell_type": "markdown",
   "metadata": {},
   "source": [
    "Solution for 1.2(e)"
   ]
  },
  {
   "cell_type": "code",
   "execution_count": null,
   "metadata": {},
   "outputs": [],
   "source": [
    "def equals(r1,r2):\n",
    "    \"\"\"Check whether two rectangles are equals.\"\"\"\n",
    "    return r1 == r2\n",
    "\n",
    "def inside(r1, r2):\n",
    "    \"\"\"Check if rectangle r1 is connected in rectangle r2.\"\"\"\n",
    "    x1, y1, w1, h1 = r1\n",
    "    x2, y2, w2, h2 = r2\n",
    "    return x2 <= x1 and y2 <= y1 and x1 + w1 <= x2 + w2 and y1 + h1 <= y2 + h2\n",
    "\n",
    "\n",
    "def intersects_not_inside(r1, r2):\n",
    "    \"\"\"Check if rectangle r1 is connected in rectangle r2.\"\"\"\n",
    "    x1, y1, w1, h1 = r1\n",
    "    x2, y2, w2, h2 = r2\n",
    "    return not (x1 + w1 <= x2 or x2 + w2 <= x1 or y1 + h1 <= y2 or y2 + h2 <= y1)\n",
    "\n",
    "\n",
    "def disjoint(r1, r2):\n",
    "    \"\"\"Check whether two rectangles are disjoint\"\"\"\n",
    "    return not intersects_not_inside(r1, r2) and not inside(r1,r2) and not inside(r2, r1)\n",
    "\n",
    "#Example \n",
    "r1 = (0, 0, 2, 2)\n",
    "r2 = (1, 1, 3, 3)\n",
    "\n",
    "print(\"Equals: \", equals(r1, r2))\n",
    "print(\"Inside: \", inside(r1, r2))\n",
    "print(\"Intersect but not inside: \", intersects_not_inside(r1, r2))\n",
    "print(\"Disjoint: \", disjoint(r1, r2))\n"
   ]
  }
 ],
 "metadata": {
  "kernelspec": {
   "display_name": "Python 3",
   "language": "python",
   "name": "python3"
  },
  "language_info": {
   "codemirror_mode": {
    "name": "ipython",
    "version": 3
   },
   "file_extension": ".py",
   "mimetype": "text/x-python",
   "name": "python",
   "nbconvert_exporter": "python",
   "pygments_lexer": "ipython3",
   "version": "3.10.12"
  }
 },
 "nbformat": 4,
 "nbformat_minor": 2
}
